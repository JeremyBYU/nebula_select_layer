{
 "cells": [
  {
   "cell_type": "code",
   "execution_count": 1,
   "id": "d8f2fa0b",
   "metadata": {},
   "outputs": [
    {
     "data": {
      "application/vnd.jupyter.widget-view+json": {
       "model_id": "06ebf2d5ed294187bf2f046131b8dcac",
       "version_major": 2,
       "version_minor": 0
      },
      "text/plain": [
       "DeckGLWidget(carto_key=None, custom_libraries=[{'libraryName': 'SelectionLayerLibrary', 'resourceUri': 'http:/…"
      ]
     },
     "metadata": {},
     "output_type": "display_data"
    }
   ],
   "source": [
    "import pydeck as pdk\n",
    "from ipywidgets import HTML, Output\n",
    "\n",
    "pdk.settings.custom_libraries = [\n",
    "    {\n",
    "        \"libraryName\": \"SelectionLayerLibrary\",\n",
    "        \"resourceUri\": \"http://localhost:8000/dist/bundle.js\",\n",
    "    }\n",
    "]\n",
    "\n",
    "UK_ACCIDENTS_DATA = 'https://raw.githubusercontent.com/visgl/deck.gl-data/master/examples/3d-heatmap/heatmap-data.csv'\n",
    "\n",
    "layer = pdk.Layer(\n",
    "    'HexagonLayer',  # `type` positional argument is here\n",
    "    UK_ACCIDENTS_DATA,\n",
    "    id='accidents',\n",
    "    get_position=['lng', 'lat'],\n",
    "    auto_highlight=True,\n",
    "    elevation_scale=50,\n",
    "    pickable=True,\n",
    "    elevation_range=[0, 3000],\n",
    "    extruded=True,\n",
    "    coverage=1)\n",
    "\n",
    "selection = pdk.Layer(\n",
    "    'SelectionLayer',  # `type` positional argument is here\n",
    "    id='selection',\n",
    "    on_select=\"(info) => deckHandleEvent('deck-on-select-event', info)\",\n",
    "    selection_type=pdk.types.String(\"rectangle\"))\n",
    "\n",
    "# Set the viewport location\n",
    "view_state = pdk.ViewState(\n",
    "    longitude=-1.415,\n",
    "    latitude=52.2323,\n",
    "    zoom=6,\n",
    "    min_zoom=5,\n",
    "    max_zoom=15,\n",
    "    pitch=40.5,\n",
    "    bearing=-27.36)\n",
    "\n",
    "\n",
    "r = pdk.Deck(layers=[layer, selection], initial_view_state=view_state)\n",
    "\n",
    "\n",
    "r.show()"
   ]
  },
  {
   "cell_type": "markdown",
   "id": "29db1cc1",
   "metadata": {},
   "source": [
    "Ensure that the cell below is a code cell. Sometime holding r converts it to a raw NBConvert cell..."
   ]
  },
  {
   "cell_type": "code",
   "execution_count": 2,
   "id": "7abbd6a1",
   "metadata": {},
   "outputs": [
    {
     "data": {
      "application/vnd.jupyter.widget-view+json": {
       "model_id": "ed2d47486169470d95164cf5587dac83",
       "version_major": 2,
       "version_minor": 0
      },
      "text/plain": [
       "Output()"
      ]
     },
     "metadata": {},
     "output_type": "display_data"
    }
   ],
   "source": [
    "output2 = Output()\n",
    "def on_select(widget_instance, payload):\n",
    "    output2.clear_output()\n",
    "    with output2:\n",
    "        print(payload)\n",
    "r.deck_widget.on_select(on_select)\n",
    "display(output2)"
   ]
  },
  {
   "cell_type": "code",
   "execution_count": 3,
   "id": "b72785b4",
   "metadata": {},
   "outputs": [
    {
     "data": {
      "application/vnd.jupyter.widget-view+json": {
       "model_id": "0edec17be13e495ab608761d89fd30d7",
       "version_major": 2,
       "version_minor": 0
      },
      "text/plain": [
       "Output()"
      ]
     },
     "metadata": {},
     "output_type": "display_data"
    }
   ],
   "source": [
    "output1 = Output()\n",
    "def on_click(widget_instance, payload):\n",
    "    output1.clear_output()\n",
    "    with output1:\n",
    "        print(payload)\n",
    "r.deck_widget.on_click(on_click)\n",
    "display(output1)"
   ]
  }
 ],
 "metadata": {
  "kernelspec": {
   "display_name": "Python 3 (ipykernel)",
   "language": "python",
   "name": "python3"
  },
  "language_info": {
   "codemirror_mode": {
    "name": "ipython",
    "version": 3
   },
   "file_extension": ".py",
   "mimetype": "text/x-python",
   "name": "python",
   "nbconvert_exporter": "python",
   "pygments_lexer": "ipython3",
   "version": "3.10.13"
  }
 },
 "nbformat": 4,
 "nbformat_minor": 5
}
